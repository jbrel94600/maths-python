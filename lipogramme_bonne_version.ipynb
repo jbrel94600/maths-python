{
  "cells": [
    {
      "metadata": {},
      "cell_type": "markdown",
      "source": "\n<div size=\"+4\" align=\"center\" text=\"#ff00cc\"><b>Exercice :  Lipogramme </b></div><br>\n\n<div align=\"center\"><img src=\"http://www.jbrel94.fr/images/lipogramme.jpg\" width=\"300\" height=\"150\"></div><br>\n\n<div size=\"+4\" align=\"left\"><b>Objectif :</b> Ce TP a pour but le comptage d’effectifs difficiles à extraire et le calcul de fréquences à l’aide d’un programme informatique.</div>\n\n\n\n    "
    },
    {
      "metadata": {},
      "cell_type": "markdown",
      "source": "Partie A : Premier pas"
    },
    {
      "metadata": {},
      "cell_type": "markdown",
      "source": "1. Cocher, parmi les textes suivants, celui qui s’avère être un lipogramme."
    },
    {
      "metadata": {},
      "cell_type": "markdown",
      "source": "<html>\n<body bgcolor=\"#FFFFFF\" text=\"#000000\">\n<table width=\"75%\" border=\"1\" bordercolor=\"#000000\">\n  <tr> \n    <td width=\"48%\" height=\"22\"> \n      <form name=\"form1\" method=\"post\" action=\"\">\n        <div align=\"center\"><b> \n          <input type=\"checkbox\" name=\"checkbox\" value=\"checkbox\">\n          La Disparition, Georges Perec </b> </div>\n      </form>\n    </td>\n    <td width=\"52%\" height=\"22\"> \n      <form name=\"form2\" method=\"post\" action=\"\">\n        <div align=\"center\"><b> \n          <input type=\"checkbox\" name=\"checkbox2\" value=\"checkbox\">\n          L'&eacute;tranger, Albert Camus </b> </div>\n      </form>\n    </td>\n  </tr>\n  <tr> \n    <td width=\"48%\">&quot; L&agrave; o&ugrave; nous vivions jadis, il n'y avait \n      ni autos, ni taxis, ni autobus : nous allions parfois, mon cousin m'accompagnait, \n      voir Linda qui habitait dans un canton voisin. Mais, n'ayant pas d'autos, \n      il nous fallait courir tout au long du parcours ; sinon nous arrivions trop \n      tard : Linda avait disparu.<br>\n      Un jour vint pourtant o&ugrave; Linda partit pour toujours. Nous aurions \n      d&ucirc; la bannir &agrave; jamais ; mais voil&agrave;, nous l'aimions. \n      Nous aimions tant son parfum, son air rayonnant, son blouson, son pantalon \n      brun trop long ; nous aimions tout.<br>\n      Mais voil&agrave; tout finit : trois ans plus tard, Linda mourut ; nous \n      l'avions appris par hasard, un soir, au cours d'un lunch. &quot;<br>\n    </td>\n    <td width=\"52%\">Aujourd'hui, maman est morte. Ou peut-&ecirc;tre hier, je \n      ne sais pas. J'ai re&ccedil;u un t&eacute;l&eacute;gramme de l'asile: &quot;M&egrave;re \n      d&eacute;c&eacute;d&eacute;e. Enterrement demain. Sentiments distingu&eacute;s.&quot; \n      Cela ne veut rien dire. C'&eacute;tait peut-&ecirc;tre hier. L'asile de \n      vieillards est &agrave; Marengo, &agrave; quatre-vingts kilom&egrave;tres \n      d'Alger. Je prendrai l'autobus &agrave; deux heures et j'arriverai dans \n      l'apr&egrave;s-midi. Ainsi, je pourrai veiller et je rentrerai demain soir. \n      J'ai demand&eacute; deux jours de cong&eacute; &agrave; mon patron et il \n      ne pouvait pas me les refuser avec une excuse pareille. Mais il n'avait \n      pas l'air content. Je lui ai m&ecirc;me dit : &quot; Ce n'est pas de ma \n      faute. &quot; II n'a pas r&eacute;pondu. J'ai pens&eacute; alors que je \n      n'aurais pas d&ucirc; lui dire cela. En somme, je n'avais pas &agrave; m'excuser. \n      C'&eacute;tait plut&ocirc;t &agrave; lui de me pr&eacute;senter ses condol&eacute;ances. \n      Mais il le fera sans doute apr&egrave;s-demain, quand il me verra en deuil. \n      Pour le moment, c'est un peu comme si maman n'&eacute;tait pas morte. Apr&egrave;s \n      l'enterrement, au contraire, ce sera une affaire class&eacute;e et tout \n      aura rev&ecirc;tu une allure plus officielle.</td>\n  </tr>\n</table>\n</body>\n</html>"
    },
    {
      "metadata": {},
      "cell_type": "markdown",
      "source": "<b>Objectif :</b> on souhaite déterminer si un texte est lipogrammme ou non<br>\n2. Quelle méthode proposeriez-vous ? <br>\n................................................................................................................................................................................................................................................................."
    },
    {
      "metadata": {},
      "cell_type": "markdown",
      "source": "Partie B : Avec Python"
    },
    {
      "metadata": {
        "trusted": true
      },
      "cell_type": "code",
      "source": "D = {'A':3,'B':5,'C':3}\nD",
      "execution_count": 1,
      "outputs": [
        {
          "output_type": "execute_result",
          "execution_count": 1,
          "data": {
            "text/plain": "{'A': 3, 'B': 5, 'C': 3}"
          },
          "metadata": {}
        }
      ]
    },
    {
      "metadata": {
        "trusted": true
      },
      "cell_type": "code",
      "source": "D['A']",
      "execution_count": 2,
      "outputs": [
        {
          "output_type": "execute_result",
          "execution_count": 2,
          "data": {
            "text/plain": "3"
          },
          "metadata": {}
        }
      ]
    },
    {
      "metadata": {
        "trusted": true
      },
      "cell_type": "code",
      "source": "'C' in D",
      "execution_count": 3,
      "outputs": [
        {
          "output_type": "execute_result",
          "execution_count": 3,
          "data": {
            "text/plain": "True"
          },
          "metadata": {}
        }
      ]
    },
    {
      "metadata": {
        "trusted": true
      },
      "cell_type": "code",
      "source": "'D' in D",
      "execution_count": 4,
      "outputs": [
        {
          "output_type": "execute_result",
          "execution_count": 4,
          "data": {
            "text/plain": "False"
          },
          "metadata": {}
        }
      ]
    },
    {
      "metadata": {
        "trusted": true
      },
      "cell_type": "code",
      "source": "for k in range(97,123):\n    print(k,'->',chr(k))",
      "execution_count": 5,
      "outputs": [
        {
          "output_type": "stream",
          "text": "97 -> a\n98 -> b\n99 -> c\n100 -> d\n101 -> e\n102 -> f\n103 -> g\n104 -> h\n105 -> i\n106 -> j\n107 -> k\n108 -> l\n109 -> m\n110 -> n\n111 -> o\n112 -> p\n113 -> q\n114 -> r\n115 -> s\n116 -> t\n117 -> u\n118 -> v\n119 -> w\n120 -> x\n121 -> y\n122 -> z\n",
          "name": "stdout"
        }
      ]
    },
    {
      "metadata": {
        "trusted": true
      },
      "cell_type": "code",
      "source": "D = {chr(97+k):0 for k in range(26)}\nD",
      "execution_count": 6,
      "outputs": [
        {
          "output_type": "execute_result",
          "execution_count": 6,
          "data": {
            "text/plain": "{'a': 0,\n 'b': 0,\n 'c': 0,\n 'd': 0,\n 'e': 0,\n 'f': 0,\n 'g': 0,\n 'h': 0,\n 'i': 0,\n 'j': 0,\n 'k': 0,\n 'l': 0,\n 'm': 0,\n 'n': 0,\n 'o': 0,\n 'p': 0,\n 'q': 0,\n 'r': 0,\n 's': 0,\n 't': 0,\n 'u': 0,\n 'v': 0,\n 'w': 0,\n 'x': 0,\n 'y': 0,\n 'z': 0}"
          },
          "metadata": {}
        }
      ]
    },
    {
      "metadata": {
        "trusted": true
      },
      "cell_type": "code",
      "source": "for lettre in 'frederic':\n    D[lettre] = D[lettre]+1\nD",
      "execution_count": 7,
      "outputs": [
        {
          "output_type": "execute_result",
          "execution_count": 7,
          "data": {
            "text/plain": "{'a': 0,\n 'b': 0,\n 'c': 1,\n 'd': 1,\n 'e': 2,\n 'f': 1,\n 'g': 0,\n 'h': 0,\n 'i': 1,\n 'j': 0,\n 'k': 0,\n 'l': 0,\n 'm': 0,\n 'n': 0,\n 'o': 0,\n 'p': 0,\n 'q': 0,\n 'r': 2,\n 's': 0,\n 't': 0,\n 'u': 0,\n 'v': 0,\n 'w': 0,\n 'x': 0,\n 'y': 0,\n 'z': 0}"
          },
          "metadata": {}
        }
      ]
    },
    {
      "metadata": {
        "trusted": true
      },
      "cell_type": "code",
      "source": "lamartine = \"Ainsi, toujours poussés vers de nouveaux rivages,Dans la nuit éternelle emportés sans retour,Ne pourrons-nous jamais sur l'océan des âgesJeter l'ancre un seul jour ?Ô lac ! l'annéeà peine a fini sa carrière,Et près des flots chéris qu'elle devait revoir,Regarde ! je viens seulm'asseoir sur cette pierreOù tu la vis s'asseoir !Tu mugissais ainsi sous ces rochesprofondes,Ainsi tu te brisais sur leurs flancs déchirés,Ainsi le vent jetait l'écume detesondesSur ses pieds adorés.\"\nlamartine",
      "execution_count": 8,
      "outputs": [
        {
          "output_type": "execute_result",
          "execution_count": 8,
          "data": {
            "text/plain": "\"Ainsi, toujours poussés vers de nouveaux rivages,Dans la nuit éternelle emportés sans retour,Ne pourrons-nous jamais sur l'océan des âgesJeter l'ancre un seul jour ?Ô lac ! l'annéeà peine a fini sa carrière,Et près des flots chéris qu'elle devait revoir,Regarde ! je viens seulm'asseoir sur cette pierreOù tu la vis s'asseoir !Tu mugissais ainsi sous ces rochesprofondes,Ainsi tu te brisais sur leurs flancs déchirés,Ainsi le vent jetait l'écume detesondesSur ses pieds adorés.\""
          },
          "metadata": {}
        }
      ]
    },
    {
      "metadata": {},
      "cell_type": "markdown",
      "source": "3. Exécuter le programme ci-dessous qui permet d’afficher sous la forme d’un diagramme en bâtons la fréquence d’apparition de chaque lettre de l’alphabet dans un texte. <br>\nNB1 : ce texte donne les résultats pour les trois premières strophes du poème Le Lac d'Alphonse Lamartine.\n<br>\nNB2 : Pour que le programme arrive à compter chaque lettre, le texte doit être transformé pour ne plus comporter aucun espace, aucun accent ni aucune ponctuation. Selon le texte choisi vous pourrez être amené à utiliser la commande <b><i>texte=texte.replace(« objet », « »)</i></b> pour éliminer tout objet indésirable."
    },
    {
      "metadata": {
        "trusted": true
      },
      "cell_type": "code",
      "source": "def toilettage(texte):\n    texte = texte.lower()\n    texte = texte.replace(\" \",\"\")\n    texte = texte.replace(\".\",\"\")\n    texte = texte.replace(\"!\",\"\")\n    texte = texte.replace(\",\",\"\")\n    texte = texte.replace(\"-\",\"\")\n    texte = texte.replace(\"?\",\"\")\n    texte = texte.replace(\"'\",\"\")\n    texte=texte.replace(\":\",\"\")\n    texte=texte.replace(\";\",\"\")\n    texte = texte.replace(\"é\",\"e\")\n    texte = texte.replace(\"à\",\"a\")\n    texte = texte.replace(\"ô\",\"o\")\n    texte = texte.replace(\"â\",\"a\")\n    texte = texte.replace(\"ù\",\"u\")\n    texte = texte.replace(\"è\",\"e\")\n    texte=texte.replace(\"û\",\"\")\n    return texte",
      "execution_count": 9,
      "outputs": []
    },
    {
      "metadata": {
        "trusted": true
      },
      "cell_type": "code",
      "source": "toilettage(lamartine)",
      "execution_count": 10,
      "outputs": [
        {
          "output_type": "execute_result",
          "execution_count": 10,
          "data": {
            "text/plain": "'ainsitoujourspoussesversdenouveauxrivagesdanslanuiteternelleemportessansretournepourronsnousjamaissurloceandesagesjeterlancreunseuljourolaclanneeapeineafinisacarriereetpresdesflotscherisquelledevaitrevoirregardejeviensseulmasseoirsurcettepierreoutulavissasseoirtumugissaisainsisouscesrochesprofondesainsitutebrisaissurleursflancsdechiresainsileventjetaitlecumedetesondessursespiedsadores'"
          },
          "metadata": {}
        }
      ]
    },
    {
      "metadata": {},
      "cell_type": "markdown",
      "source": "4. Conjecturer les trois lettres les plus courantes de la langue française ainsi que leur fréquence d’utilisation. <br>\n............................................................................................................................................................................................................................................................\n<br>\n............................................................................................................................................................................................................................................................"
    },
    {
      "metadata": {},
      "cell_type": "markdown",
      "source": "5. En utilisant  le programme précédent, conclure sur la problématique en complétant et en exécutant les cellules suivantes."
    },
    {
      "metadata": {},
      "cell_type": "markdown",
      "source": "<div size=\"+4\" align=\"center\" text=\"#ff00cc\"><b>FIN </b></div>"
    },
    {
      "metadata": {
        "trusted": true
      },
      "cell_type": "code",
      "source": "alphabet = [chr(97+k) for k in range(26)]\nprint(alphabet)",
      "execution_count": 11,
      "outputs": [
        {
          "output_type": "stream",
          "text": "['a', 'b', 'c', 'd', 'e', 'f', 'g', 'h', 'i', 'j', 'k', 'l', 'm', 'n', 'o', 'p', 'q', 'r', 's', 't', 'u', 'v', 'w', 'x', 'y', 'z']\n",
          "name": "stdout"
        }
      ]
    },
    {
      "metadata": {
        "trusted": true
      },
      "cell_type": "code",
      "source": "def dico(texte):\n    D = {chr(97+k):0 for k in range(26)}\n    for lettre in texte:\n        D[lettre] = D[lettre] + 1\n    return D        ",
      "execution_count": 13,
      "outputs": []
    },
    {
      "metadata": {
        "trusted": true
      },
      "cell_type": "code",
      "source": "texte = toilettage(lamartine)\ndico(texte)",
      "execution_count": 14,
      "outputs": [
        {
          "output_type": "execute_result",
          "execution_count": 14,
          "data": {
            "text/plain": "{'a': 30,\n 'b': 1,\n 'c': 11,\n 'd': 12,\n 'e': 63,\n 'f': 4,\n 'g': 4,\n 'h': 3,\n 'i': 30,\n 'j': 6,\n 'k': 0,\n 'l': 17,\n 'm': 5,\n 'n': 24,\n 'o': 23,\n 'p': 8,\n 'q': 1,\n 'r': 35,\n 's': 56,\n 't': 19,\n 'u': 26,\n 'v': 8,\n 'w': 0,\n 'x': 1,\n 'y': 0,\n 'z': 0}"
          },
          "metadata": {}
        }
      ]
    },
    {
      "metadata": {
        "trusted": true
      },
      "cell_type": "code",
      "source": "import pylab as pl",
      "execution_count": 17,
      "outputs": []
    },
    {
      "metadata": {
        "trusted": true
      },
      "cell_type": "code",
      "source": "def graph(texte):\n    texte = toilettage(texte)\n    D = dico(texte)\n    alphabet = [chr(97+k) for k in range(26)]\n    effectifs = [D[lettre] for lettre in alphabet]\n    pl.bar(alphabet,effectifs)",
      "execution_count": 18,
      "outputs": []
    },
    {
      "metadata": {
        "trusted": true
      },
      "cell_type": "code",
      "source": "graph('frederic')",
      "execution_count": 19,
      "outputs": [
        {
          "output_type": "display_data",
          "data": {
            "image/png": "[encoded data removed]",
            "text/plain": "<Figure size 432x288 with 1 Axes>"
          },
          "metadata": {
            "needs_background": "light"
          }
        }
      ]
    },
    {
      "metadata": {
        "trusted": true
      },
      "cell_type": "code",
      "source": "graph(lamartine)",
      "execution_count": 20,
      "outputs": [
        {
          "output_type": "display_data",
          "data": {
            "image/png": "[encoded data removed]",
            "text/plain": "<Figure size 432x288 with 1 Axes>"
          },
          "metadata": {
            "needs_background": "light"
          }
        }
      ]
    },
    {
      "metadata": {
        "trusted": true
      },
      "cell_type": "code",
      "source": "texte1=\"Là où nous vivions jadis, il n'y avait ni autos, ni taxis, ni autobus : nous allions parfois, mon cousin m'accompagnait, voir Linda qui habitait dans un canton voisin. Mais, n'ayant pas d'autos, il nous fallait courir tout au long du parcours ; sinon nous arrivions trop tard : Linda avait disparu. Un jour vint pourtant où Linda partit pour toujours. Nous aurions dû la bannir à jamais ; mais voilà, nous l'aimions. Nous aimions tant son parfum, son air rayonnant, son blouson, son pantalon brun trop long ; nous aimions tout. Mais voilà tout finit : trois ans plus tard, Linda mourut ; nous l'avions appris par hasard, un soir, au cours d'un lunch.\"\nprint(texte1)",
      "execution_count": 21,
      "outputs": [
        {
          "output_type": "stream",
          "text": "Là où nous vivions jadis, il n'y avait ni autos, ni taxis, ni autobus : nous allions parfois, mon cousin m'accompagnait, voir Linda qui habitait dans un canton voisin. Mais, n'ayant pas d'autos, il nous fallait courir tout au long du parcours ; sinon nous arrivions trop tard : Linda avait disparu. Un jour vint pourtant où Linda partit pour toujours. Nous aurions dû la bannir à jamais ; mais voilà, nous l'aimions. Nous aimions tant son parfum, son air rayonnant, son blouson, son pantalon brun trop long ; nous aimions tout. Mais voilà tout finit : trois ans plus tard, Linda mourut ; nous l'avions appris par hasard, un soir, au cours d'un lunch.\n",
          "name": "stdout"
        }
      ]
    },
    {
      "metadata": {
        "trusted": true
      },
      "cell_type": "code",
      "source": "graph(texte1)",
      "execution_count": 22,
      "outputs": [
        {
          "output_type": "display_data",
          "data": {
            "image/png": "[encoded data removed]",
            "text/plain": "<Figure size 432x288 with 1 Axes>"
          },
          "metadata": {
            "needs_background": "light"
          }
        }
      ]
    },
    {
      "metadata": {
        "trusted": true
      },
      "cell_type": "code",
      "source": "",
      "execution_count": null,
      "outputs": []
    }
  ],
  "metadata": {
    "kernelspec": {
      "name": "python36",
      "display_name": "Python 3.6",
      "language": "python"
    },
    "language_info": {
      "mimetype": "text/x-python",
      "nbconvert_exporter": "python",
      "name": "python",
      "pygments_lexer": "ipython3",
      "version": "3.6.6",
      "file_extension": ".py",
      "codemirror_mode": {
        "version": 3,
        "name": "ipython"
      }
    }
  },
  "nbformat": 4,
  "nbformat_minor": 2
}