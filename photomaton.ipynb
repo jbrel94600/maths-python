{
  "cells": [
    {
      "metadata": {
        "collapsed": true
      },
      "cell_type": "markdown",
      "source": " <div align=\"center\"><font color=\"#FF0000\">Comment réaliser une transformation sur une image (Photomaton) ?</font> </div> \n<img src=\"mona_lisa.jpeg\" width=\"128\" height=\"128\" align=\"absmiddle\">"
    },
    {
      "metadata": {
        "trusted": true
      },
      "cell_type": "code",
      "source": "",
      "execution_count": null,
      "outputs": []
    },
    {
      "metadata": {
        "trusted": true
      },
      "cell_type": "code",
      "source": "",
      "execution_count": null,
      "outputs": []
    },
    {
      "metadata": {
        "trusted": true
      },
      "cell_type": "code",
      "source": "def f(i,n):\n    if i%2==0:\n        return i//2\n    else:\n        return i // 2 + n // 2\ndef photomaton(A):\n    n,m,p = np.shape(A)\n    T=np.copy(A)\n    for i in range(n):\n        for j in range(m):\n            T[f(i,n),f(j,m)]=A[i ,j]\n    return T ",
      "execution_count": 4,
      "outputs": []
    },
    {
      "metadata": {
        "trusted": true
      },
      "cell_type": "code",
      "source": "A = photomaton(A)\npl.imshow(A)",
      "execution_count": null,
      "outputs": []
    },
    {
      "metadata": {
        "trusted": true
      },
      "cell_type": "code",
      "source": "",
      "execution_count": null,
      "outputs": []
    }
  ],
  "metadata": {
    "kernelspec": {
      "name": "python36",
      "display_name": "Python 3.6",
      "language": "python"
    },
    "language_info": {
      "mimetype": "text/x-python",
      "nbconvert_exporter": "python",
      "name": "python",
      "pygments_lexer": "ipython3",
      "version": "3.6.6",
      "file_extension": ".py",
      "codemirror_mode": {
        "version": 3,
        "name": "ipython"
      }
    }
  },
  "nbformat": 4,
  "nbformat_minor": 2
}